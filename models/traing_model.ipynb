{
 "cells": [
  {
   "cell_type": "code",
   "execution_count": 1,
   "id": "e7f39973",
   "metadata": {},
   "outputs": [],
   "source": [
    "import torch\n",
    "import torch.nn as nn\n",
    "from torchvision import datasets, transforms\n",
    "from torch.utils.data import DataLoader,Dataset"
   ]
  },
  {
   "cell_type": "code",
   "execution_count": null,
   "id": "11a732da",
   "metadata": {},
   "outputs": [],
   "source": [
    "class CustomImageFolder(datasets.ImageFolder):\n",
    "    def __getitem__(self, index):\n",
    "        image, label = super().__getitem__(index)\n",
    "        \n",
    "        label = torch.tensor(label, dtype=torch.float)\n",
    "        \n",
    "        return image, label\n",
    "\n",
    "trans=transforms.Compose([\n",
    "          transforms.Resize((64,64)),\n",
    "\n",
    "          transforms.ToTensor(),\n",
    "          transforms.Normalize([0.5, 0.5, 0.5],[0.5, 0.5, 0.5])\n",
    "]\n",
    ")\n",
    "root_dir=r'C:\\Users\\navee\\Desktop\\flask_apps\\dog_cat_classification\\dataset\\train'\n",
    "dataset = CustomImageFolder(root=root_dir, transform=trans)"
   ]
  },
  {
   "cell_type": "code",
   "execution_count": 7,
   "id": "826af75e",
   "metadata": {},
   "outputs": [],
   "source": [
    "inp_siz=3\n",
    "epoch=200\n",
    "batch=100\n",
    "lr=0.00001\n",
    "dataload=DataLoader(dataset,batch_size=batch,shuffle=True)\n",
    "\n"
   ]
  },
  {
   "cell_type": "code",
   "execution_count": 4,
   "id": "a895a71e",
   "metadata": {},
   "outputs": [],
   "source": [
    "class model_arc(nn.Module):\n",
    "          def __init__(self,inp_siz):\n",
    "                  super(model_arc,self).__init__()\n",
    "                  self.con1=nn.Conv2d(in_channels=inp_siz,out_channels=16,kernel_size=3,stride=1,padding=1)\n",
    "                  self.b1=nn.BatchNorm2d(16) \n",
    "\n",
    "                  self.con2=nn.Conv2d(16,out_channels=32,kernel_size=5,stride=1,padding=1)\n",
    "                  self.b2=nn.BatchNorm2d(32) \n",
    "                  \n",
    "                  self.con3=nn.Conv2d(32,out_channels=64,kernel_size=3,stride=1,padding=1)\n",
    "                  self.b3=nn.BatchNorm2d(64) \n",
    "\n",
    "                  self.con4=nn.Conv2d(64,out_channels=128,kernel_size=3,stride=1,padding=1)\n",
    "                  self.b4=nn.BatchNorm2d(128)\n",
    "\n",
    "                  self.maxp=nn.MaxPool2d(kernel_size=4,stride=2) \n",
    "                  self.relu=nn.ReLU()\n",
    "                  self.d1=nn.Dropout2d(p=0.15)\n",
    "                  self.d2=nn.Dropout2d(p=0.25)\n",
    "                  self.d3=nn.Dropout2d(p=0.5)\n",
    "                  self.d4=nn.Dropout(p=0.5)\n",
    "\n",
    "                  self.l1=nn.Linear(128*14*14,512)\n",
    "                  self.l2=nn.Linear(512,1)\n",
    "          def forward(self,inp):\n",
    "                  x=self.d1(self.relu(self.b1(self.con1(inp)))) # 400,16,64,64\n",
    "                  x=self.d2(self.relu((self.b2(self.con2(x))))) # 400,32,62,62\n",
    "                  x=self.d3(self.relu((self.b3(self.con3(x))))) # 400,64,62,62\n",
    "                  x=self.maxp(x)  # 400,64,30,30\n",
    "                  x=self.relu(self.b4(self.con4(x)))\n",
    "                  x=self.maxp(x)  # 400,128,14,14\n",
    "\n",
    "                  x=self.d4(self.relu(self.l1(torch.flatten(x,1))))\n",
    "                  out=self.l2(x)\n",
    "\n",
    "                  return out"
   ]
  },
  {
   "cell_type": "code",
   "execution_count": 8,
   "id": "1040922e",
   "metadata": {},
   "outputs": [
    {
     "name": "stdout",
     "output_type": "stream",
     "text": [
      "10/200 loss is 0.6371074318885803\n",
      "20/200 loss is 0.6334914565086365\n",
      "30/200 loss is 0.6434234380722046\n",
      "40/200 loss is 0.5887530446052551\n",
      "50/200 loss is 0.657886803150177\n",
      "60/200 loss is 0.6163897514343262\n",
      "70/200 loss is 0.5469484329223633\n",
      "80/200 loss is 0.4964214265346527\n",
      "90/200 loss is 0.4902949929237366\n",
      "100/200 loss is 0.455278605222702\n",
      "110/200 loss is 0.47908490896224976\n",
      "120/200 loss is 0.4879530370235443\n",
      "130/200 loss is 0.4384113848209381\n",
      "140/200 loss is 0.545909583568573\n",
      "150/200 loss is 0.5390331745147705\n",
      "160/200 loss is 0.40672609210014343\n",
      "170/200 loss is 0.43863385915756226\n",
      "180/200 loss is 0.3020067811012268\n",
      "190/200 loss is 0.44496870040893555\n",
      "200/200 loss is 0.3521955609321594\n"
     ]
    }
   ],
   "source": [
    "model=model_arc(inp_siz).to('cuda')\n",
    "loss=nn.BCEWithLogitsLoss().to('cuda')\n",
    "opt=torch.optim.Adam(model.parameters(),lr)\n",
    "\n",
    "for i in range(epoch):\n",
    "          for inp,out in dataload:\n",
    "                  inp=inp.to('cuda')\n",
    "                  out=out.to('cuda')\n",
    "                  out=out.view(-1,1)\n",
    "                  opt.zero_grad()\n",
    "                  y=model.forward(inp)\n",
    "                  l=loss(y,out)\n",
    "                  l.backward()\n",
    "                  opt.step()\n",
    "          if (i+1)%10==0:\n",
    "                  print(f\"{i+1}/{epoch} loss is {l}\")\n",
    "\n",
    "          "
   ]
  },
  {
   "cell_type": "code",
   "execution_count": 9,
   "id": "b92ae1b8",
   "metadata": {},
   "outputs": [],
   "source": [
    "# Save the entire model (less flexible)\n",
    "torch.save(model, 'entire_model-2.pth')\n",
    "torch.save(model.state_dict(), 'model_weights.pth')\n"
   ]
  }
 ],
 "metadata": {
  "kernelspec": {
   "display_name": "pytorch-dl",
   "language": "python",
   "name": "python3"
  },
  "language_info": {
   "codemirror_mode": {
    "name": "ipython",
    "version": 3
   },
   "file_extension": ".py",
   "mimetype": "text/x-python",
   "name": "python",
   "nbconvert_exporter": "python",
   "pygments_lexer": "ipython3",
   "version": "3.12.3"
  }
 },
 "nbformat": 4,
 "nbformat_minor": 5
}
